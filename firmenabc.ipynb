{
 "cells": [
  {
   "cell_type": "markdown",
   "metadata": {},
   "source": [
    "# Webscraping WKÖ Fimen A-Z "
   ]
  },
  {
   "cell_type": "markdown",
   "metadata": {},
   "source": [
    "# Import libraries "
   ]
  },
  {
   "cell_type": "code",
   "execution_count": null,
   "metadata": {},
   "outputs": [],
   "source": [
    "import pandas as pd\n",
    "import requests\n",
    "\n",
    "from bs4 import BeautifulSoup\n",
    "import urllib.parse"
   ]
  },
  {
   "cell_type": "markdown",
   "metadata": {},
   "source": [
    "# Defining extract function"
   ]
  },
  {
   "cell_type": "code",
   "execution_count": null,
   "metadata": {},
   "outputs": [],
   "source": [
    "def extract_info(entry):\n",
    "    \n",
    "    firma_name = entry.find('a').get_text()\n",
    "\n",
    "    firma_href = entry.find('a').get('href')\n",
    "    # use tmp = urllib.parse.parse_qs(firma_href) to extract dictionary from url\n",
    "\n",
    "    #tmp = urllib.parse.parse_qs(firma_href)\n",
    "    #firma_id = tmp['/Web/DetailsKontakt.aspx?FirmaID']\n",
    "    #firma_branche = tmp['Branche']\n",
    "    #firma_branchenname = tmp['BranchenName']\n",
    "\n",
    "    try:\n",
    "        firma_str = entry.find('div', itemprop='streetAddress').get_text().strip()\n",
    "    except:\n",
    "        firma_str = None\n",
    "    try:\n",
    "        firma_plz = entry.find('span', itemprop='postalCode').get_text().strip()\n",
    "    except:\n",
    "        firma_plz = None\n",
    "    try:\n",
    "        firma_ort = entry.find('span', itemprop='addressLocality').get_text().strip()\n",
    "    except:\n",
    "        firma_ort = None\n",
    "    try:\n",
    "        firma_auth = entry.find('div', class_='authorization').get_text().strip()\n",
    "    except:\n",
    "        firma_auth = None\n",
    "    try:\n",
    "        firma_cert = entry.find('div', class_='cert-txt').get_text().strip()\n",
    "    except:\n",
    "        firma_cert = None\n",
    "    try:\n",
    "        firma_tel = entry.find('div', class_='icon-phone').find('a', itemprop=\"telephone\").get_text().strip()\n",
    "    except:\n",
    "        firma_tel = None\n",
    "    try:\n",
    "        firma_mobile = entry.find('div', class_='icon-mobile').find('a', itemprop=\"telephone\").get_text().strip()\n",
    "    except:\n",
    "        firma_mobile = None\n",
    "    try:\n",
    "        firma_email = entry.find('a', itemprop=\"email\").get_text().strip()\n",
    "    except:\n",
    "        firma_email = None\n",
    "    try:    \n",
    "        firma_url = entry.find('a', itemprop=\"url\").get_text().strip()\n",
    "    except:\n",
    "        firma_url = None\n",
    "        \n",
    "    return {'firma_name' : firma_name,\n",
    "            'firma_href' : firma_href,\n",
    "            'firma_str' : firma_str,\n",
    "            'firma_plz' : firma_plz,\n",
    "            'firma_ort' : firma_ort,\n",
    "            'firma_auth' : firma_auth,\n",
    "            'firma_tel' : firma_tel,\n",
    "            'firma_mobile' : firma_mobile,\n",
    "            'firma_email' : firma_email,\n",
    "            'firma_url' : firma_url,\n",
    "            'firma_cert' : firma_cert \n",
    "           }    "
   ]
  },
  {
   "cell_type": "markdown",
   "metadata": {},
   "source": [
    "# Downloading data\n",
    "\n",
    "Basis ist das WKÖ Firmenabc, hier für Standort Mödling (Gemeinde). Da eine Abfrage nur nach Ort nicht möglich ist, werden die einzelnen Branchen - auf höchster Ebene - durchgegangen."
   ]
  },
  {
   "cell_type": "code",
   "execution_count": null,
   "metadata": {},
   "outputs": [],
   "source": [
    "URLS = [\n",
    "    'https://firmen.wko.at/Web/Ergebnis.aspx?StandortID=535&StandortName=M%C3%B6dling&Branche=3785&BranchenName=Gewerbe+und+Handwerk&CategoryID=0',\n",
    "    'https://firmen.wko.at/Web/Ergebnis.aspx?StandortID=535&StandortName=M%C3%B6dling&Branche=3911&BranchenName=Bank+und+Versicherung&CategoryID=0',\n",
    "    'https://firmen.wko.at/Web/Ergebnis.aspx?StandortID=535&StandortName=M%C3%B6dling&Branche=3876&BranchenName=Handel&CategoryID=0',\n",
    "    'https://firmen.wko.at/Web/Ergebnis.aspx?StandortID=535&StandortName=M%C3%B6dling&Branche=3852&BranchenName=Industrie&CategoryID=0',\n",
    "    'https://firmen.wko.at/Web/Ergebnis.aspx?StandortID=535&StandortName=M%C3%B6dling&Branche=3841&BranchenName=Information+und+Consulting&CategoryID=0',\n",
    "    'https://firmen.wko.at/Web/Ergebnis.aspx?StandortID=535&StandortName=M%C3%B6dling&Branche=3935&BranchenName=Tourismus+und+Freizeitwirtschaft&CategoryID=0',\n",
    "    'https://firmen.wko.at/Web/Ergebnis.aspx?StandortID=535&StandortName=M%C3%B6dling&Branche=3922&BranchenName=Transport+und+Verkehr&CategoryID=0',\n",
    "    ]"
   ]
  },
  {
   "cell_type": "code",
   "execution_count": null,
   "metadata": {},
   "outputs": [],
   "source": [
    "# Hinzufügen Parameter für Blättern durch Seiten\n",
    "URLS = [url + '&Page={page}' for url in URLS]\n",
    "# Falls nur Einträge mit \"Kontaktdaten\" (=mehr als nur Adresse, z.B. Tel, E-Mail, Homepage) abgefragt werden sollen\n",
    "# kann man noch einen zusätzlichen Filter setzen\n",
    "#URLS = [url + '&Filter=1&Page={page}' for url in URLS]"
   ]
  },
  {
   "cell_type": "code",
   "execution_count": null,
   "metadata": {},
   "outputs": [],
   "source": [
    "%%time\n",
    "\n",
    "df = pd.DataFrame()\n",
    "\n",
    "for url in URLS:\n",
    "\n",
    "    print(urllib.parse.parse_qs(url)['BranchenName'][0])\n",
    "\n",
    "    page = 1\n",
    "    while True:\n",
    "        r = requests.get(url.format(page=page))\n",
    "    #    if r.status_code != requests.codes.ok:\n",
    "    #        break\n",
    "\n",
    "        soup = BeautifulSoup(r.content, 'html.parser')\n",
    "\n",
    "        if page == 1:\n",
    "            print(soup.find('a', class_=\"treffer scroll\").get_text())\n",
    "\n",
    "        entries = soup.find_all('div', itemtype='http://schema.org/Organization')\n",
    "        if len(entries) == 0:\n",
    "            break\n",
    "\n",
    "        for entry in entries:\n",
    "            df = df.append(pd.DataFrame(extract_info(entry), index=[0]))\n",
    "\n",
    "        print('Seite {} gelesen, letzter Eintrag {}'.format(page, extract_info(entry)['firma_name']))\n",
    "        page += 1\n",
    "        \n",
    "df.to_pickle('df.pkl')\n",
    "df.to_excel('firmen.xlsx', index=False)"
   ]
  },
  {
   "cell_type": "code",
   "execution_count": null,
   "metadata": {},
   "outputs": [],
   "source": [
    "df = df.drop_duplicates(subset=['firma_href'])"
   ]
  },
  {
   "cell_type": "code",
   "execution_count": null,
   "metadata": {},
   "outputs": [],
   "source": [
    "df.info()"
   ]
  },
  {
   "cell_type": "code",
   "execution_count": null,
   "metadata": {},
   "outputs": [],
   "source": [
    "df['firma_branche'] = df.firma_href.map(lambda x:urllib.parse.parse_qs(x)['BranchenName'][0])\n",
    "\n",
    "df['firma_id'] = df.firma_href.map(lambda x:urllib.parse.parse_qs(x)['/Web/DetailsKontakt.aspx?FirmaID'][0])"
   ]
  },
  {
   "cell_type": "code",
   "execution_count": null,
   "metadata": {},
   "outputs": [],
   "source": [
    "df.head()"
   ]
  },
  {
   "cell_type": "code",
   "execution_count": null,
   "metadata": {},
   "outputs": [],
   "source": [
    "df.shape"
   ]
  },
  {
   "cell_type": "code",
   "execution_count": null,
   "metadata": {},
   "outputs": [],
   "source": [
    "df.firma_id.nunique()"
   ]
  },
  {
   "cell_type": "code",
   "execution_count": null,
   "metadata": {},
   "outputs": [],
   "source": [
    "df.firma_name.nunique()\n",
    "# gives same result as len(set(df.firma_name))"
   ]
  },
  {
   "cell_type": "code",
   "execution_count": null,
   "metadata": {},
   "outputs": [],
   "source": [
    "df.firma_plz.nunique()"
   ]
  },
  {
   "cell_type": "code",
   "execution_count": null,
   "metadata": {},
   "outputs": [],
   "source": [
    "df.to_excel('firmen_wko.xlsx', index=False)"
   ]
  },
  {
   "cell_type": "code",
   "execution_count": null,
   "metadata": {},
   "outputs": [],
   "source": []
  },
  {
   "cell_type": "code",
   "execution_count": null,
   "metadata": {},
   "outputs": [],
   "source": []
  },
  {
   "cell_type": "code",
   "execution_count": null,
   "metadata": {},
   "outputs": [],
   "source": []
  },
  {
   "cell_type": "markdown",
   "metadata": {},
   "source": [
    "## Alternative source - not used, just as reference\n",
    "\n",
    "Basis ist das Firmenabc für Mödling, hinten steht die Nummer der Seite: https://www.firmenabc.at/firmen/moedling_Llx/2"
   ]
  },
  {
   "cell_type": "code",
   "execution_count": null,
   "metadata": {},
   "outputs": [],
   "source": [
    "URL = \"https://www.firmenabc.at/firmen/moedling_Llx/{nr}\""
   ]
  },
  {
   "cell_type": "code",
   "execution_count": null,
   "metadata": {},
   "outputs": [],
   "source": [
    "URL.format(nr=2)"
   ]
  }
 ],
 "metadata": {
  "kernelspec": {
   "display_name": "Python 3",
   "language": "python",
   "name": "python3"
  },
  "language_info": {
   "codemirror_mode": {
    "name": "ipython",
    "version": 3
   },
   "file_extension": ".py",
   "mimetype": "text/x-python",
   "name": "python",
   "nbconvert_exporter": "python",
   "pygments_lexer": "ipython3",
   "version": "3.7.0"
  }
 },
 "nbformat": 4,
 "nbformat_minor": 2
}
